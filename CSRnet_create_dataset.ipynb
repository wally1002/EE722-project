{
  "nbformat": 4,
  "nbformat_minor": 0,
  "metadata": {
    "colab": {
      "name": "CSRnet_create_dataset.ipynb",
      "provenance": [],
      "collapsed_sections": []
    },
    "kernelspec": {
      "name": "python3",
      "display_name": "Python 3"
    },
    "language_info": {
      "name": "python"
    },
    "accelerator": "GPU"
  },
  "cells": [
    {
      "cell_type": "code",
      "metadata": {
        "id": "qxlIBPZ9wAd2"
      },
      "source": [
        "import h5py\n",
        "import scipy.io as io\n",
        "import PIL.Image as Image\n",
        "import numpy as np\n",
        "import os\n",
        "import glob\n",
        "from matplotlib import pyplot as plt\n",
        "from scipy.ndimage.filters import gaussian_filter \n",
        "import scipy\n",
        "import scipy.spatial\n",
        "import json\n",
        "from matplotlib import cm as CM\n",
        "import sys\n",
        "\n",
        "if './' not in sys.path:\n",
        "    sys.path.append('./')\n",
        "sys.path.append('/content/drive/MyDrive/PRML/code')\n",
        "import warnings\n",
        "\n",
        "from CSRnet_image import *\n",
        "from CSRnet_model import *\n",
        "from CSRnet_train import *\n",
        "from CSRnet_utils import *\n",
        "# from model import Net\n",
        "import torch\n",
        "\n",
        "%matplotlib inline"
      ],
      "execution_count": null,
      "outputs": []
    },
    {
      "cell_type": "code",
      "metadata": {
        "id": "yDSpqrxXyJwl"
      },
      "source": [
        "root = '/content/drive/MyDrive/PRML/ShanghaiTech_crowd/'"
      ],
      "execution_count": null,
      "outputs": []
    },
    {
      "cell_type": "code",
      "metadata": {
        "id": "iZGK7wvNymez"
      },
      "source": [
        "# ShanghaiA's ground truth\n",
        "\n",
        "part_A_train = os.path.join(root,'part_A_final/train_data','images')\n",
        "part_A_test = os.path.join(root,'part_A_final/test_data','images')\n",
        "path_sets = [part_A_train,part_A_test]\n",
        "\n",
        "img_paths = []\n",
        "for path in path_sets:\n",
        "    for img_path in glob.glob(os.path.join(path, '*.jpg')):\n",
        "        img_paths.append(img_path)\n",
        "        \n",
        "for img_path in img_paths:\n",
        "    print(img_path)\n",
        "    mat = io.loadmat(img_path.replace('.jpg','.mat').replace('images','ground_truth').replace('IMG_','GT_IMG_'))\n",
        "    img= plt.imread(img_path)\n",
        "    k = np.zeros((img.shape[0],img.shape[1]))\n",
        "    gt = mat[\"image_info\"][0,0][0,0][0]\n",
        "    # print(gt.shape)\n",
        "    for i in range(0,len(gt)):\n",
        "        if int(gt[i][1])<img.shape[0] and int(gt[i][0])<img.shape[1]:\n",
        "            k[int(gt[i][1]),int(gt[i][0])]=1\n",
        "    k = gaussian_filter_density(k)\n",
        "    with h5py.File(img_path.replace('.jpg','.mat').replace('images','ground_truth'), 'w') as hf:\n",
        "            hf['density'] = k"
      ],
      "execution_count": null,
      "outputs": []
    },
    {
      "cell_type": "code",
      "metadata": {
        "id": "I5tIj1Lpz8hE"
      },
      "source": [
        "# ShanghaiB's ground truth\n",
        "\n",
        "part_B_train = os.path.join(root,'part_B_final/train_data','images')\n",
        "part_B_test = os.path.join(root,'part_B_final/test_data','images')\n",
        "path_sets = [part_B_train,part_B_test]\n",
        "\n",
        "img_paths = []\n",
        "for path in path_sets:\n",
        "    for img_path in glob.glob(os.path.join(path, '*.jpg')):\n",
        "        img_paths.append(img_path)\n",
        "\n",
        "for img_path in img_paths:\n",
        "    print(img_path)\n",
        "    mat = io.loadmat(img_path.replace('.jpg','.mat').replace('images','ground_truth').replace('IMG_','GT_IMG_'))\n",
        "    img= plt.imread(img_path)\n",
        "    k = np.zeros((img.shape[0],img.shape[1]))\n",
        "    gt = mat[\"image_info\"][0,0][0,0][0]\n",
        "    # print(gt.shape)\n",
        "    for i in range(0,len(gt)):\n",
        "        if int(gt[i][1])<img.shape[0] and int(gt[i][0])<img.shape[1]:\n",
        "            k[int(gt[i][1]),int(gt[i][0])]=1\n",
        "    k = gaussian_filter_density(k)\n",
        "    with h5py.File(img_path.replace('.jpg','.mat').replace('images','ground_truth'), 'w') as hf:\n",
        "            hf['density'] = k"
      ],
      "execution_count": null,
      "outputs": []
    },
    {
      "cell_type": "code",
      "metadata": {
        "id": "1tAZ_vD76lSD"
      },
      "source": [
        "# plt.imshow(Image.open(img_paths[0]))"
      ],
      "execution_count": null,
      "outputs": []
    },
    {
      "cell_type": "code",
      "metadata": {
        "id": "KjKnEY756aK6"
      },
      "source": [
        "# gt_file = h5py.File(img_paths[0].replace('.jpg','.mat').replace('images','ground_truth'),'r')\n",
        "# groundtruth = np.asarray(gt_file['density'])\n",
        "# plt.imshow(groundtruth,cmap=CM.jet)"
      ],
      "execution_count": null,
      "outputs": []
    },
    {
      "cell_type": "code",
      "metadata": {
        "id": "hayYtBK-RKad"
      },
      "source": [
        "# np.sum(groundtruth)# don't mind this slight variation"
      ],
      "execution_count": null,
      "outputs": []
    },
    {
      "cell_type": "code",
      "metadata": {
        "id": "zpAjMdiMRSLI"
      },
      "source": [
        "# root = '/content/drive/MyDrive/PRML/ShanghaiTech_crowd/'\n",
        "# part_B_train = os.path.join(root,'part_B_final/train_data','images')\n",
        "# part_B_test = os.path.join(root,'part_B_final/test_data','images')\n",
        "# path_sets = [part_B_train,part_B_test]\n",
        "\n",
        "# img_paths = []\n",
        "# for path in path_sets:\n",
        "#     for img_path in glob.glob(os.path.join(path, '*.jpg')):\n",
        "#         img_paths.append(img_path)"
      ],
      "execution_count": null,
      "outputs": []
    },
    {
      "cell_type": "code",
      "metadata": {
        "id": "9TCdnnzrV_lq"
      },
      "source": [
        "# train_list = random.sample(img_paths,int(0.8*len(img_paths)))\n",
        "# val_list = list(set(img_paths)-set(train_list))"
      ],
      "execution_count": null,
      "outputs": []
    },
    {
      "cell_type": "code",
      "metadata": {
        "id": "Tr24uEGMZfm1"
      },
      "source": [
        ""
      ],
      "execution_count": null,
      "outputs": []
    },
    {
      "cell_type": "code",
      "metadata": {
        "id": "wJ4GiGRWv5sw"
      },
      "source": [
        ""
      ],
      "execution_count": null,
      "outputs": []
    }
  ]
}